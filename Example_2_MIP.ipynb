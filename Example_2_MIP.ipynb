{
 "cells": [
  {
   "cell_type": "markdown",
   "metadata": {},
   "source": [
    "Import the necessary libraries..."
   ]
  },
  {
   "cell_type": "code",
   "execution_count": 3,
   "metadata": {},
   "outputs": [],
   "source": [
    "from ortools.linear_solver import pywraplp"
   ]
  },
  {
   "cell_type": "markdown",
   "metadata": {},
   "source": [
    "In the **second example**, we address the following optimisation problem:\n",
    "\n",
    "$$\n",
    "\\begin{align*}\n",
    "&\\text{maximise} \\quad& 7x_1 + 8x_2 + 2x_3 + 9x_4 + 6x_5 \\\\\n",
    "&\\text{subject to} \\quad& A\\boldsymbol{x}\\leq b \\\\\n",
    "&& x_i \\in \\mathbb{N}_0, \\ i=1,\\dots,5\n",
    "\\end{align*}\n",
    "$$\n",
    "where\n",
    "$$A = \n",
    "\\begin{bmatrix}\n",
    "    5 & 7 & 9 & 2 & 1 \\\\\n",
    "    18 & 4 & -9 & 10 & 12 \\\\\n",
    "    4 & 7 & 3 & 8 & 5 \\\\\n",
    "    5 & 13 & 16 & 3 & -7\n",
    "\\end{bmatrix}$$\n",
    "and\n",
    "$$b=[250, 285, 211, 315]^T$$\n",
    "\n",
    "Here is the data:"
   ]
  },
  {
   "cell_type": "code",
   "execution_count": 4,
   "metadata": {},
   "outputs": [],
   "source": [
    "data = {}\n",
    "data['constraint_coeffs'] = [\n",
    "    [5, 7, 9, 2, 1],\n",
    "    [18, 4, -9, 10, 12],\n",
    "    [4, 7, 3, 8, 5],\n",
    "    [5, 13, 16, 3, -7],\n",
    "]\n",
    "data['bounds'] = [250, 285, 211, 315]\n",
    "data['obj_coeffs'] = [7, 8, 2, 9, 6]\n",
    "data['num_vars'] = 5\n",
    "data['num_constraints'] = 4"
   ]
  },
  {
   "cell_type": "markdown",
   "metadata": {},
   "source": [
    "\n",
    "We thus proceed through the steps to *create*, *specify* and *solve* a **mixed integer programming** problem using Google's OR-Tools."
   ]
  },
  {
   "cell_type": "markdown",
   "metadata": {},
   "source": [
    "### 1. Create Solver\n",
    "First, create a solver for MIP programming, as a class instance:"
   ]
  },
  {
   "cell_type": "code",
   "execution_count": 5,
   "metadata": {},
   "outputs": [],
   "source": [
    "solver = pywraplp.Solver.CreateSolver(solver_id='SCIP')"
   ]
  },
  {
   "cell_type": "markdown",
   "metadata": {},
   "source": [
    "SCIP is the back-end for Google's solver. Remember that you can leverage solvers from external vendors."
   ]
  },
  {
   "cell_type": "markdown",
   "metadata": {},
   "source": [
    "### 2. Create Variables\n",
    "Next, create the integer-valued variables $$x_i \\in \\mathbb{N}_0, \\ i=1,\\dots,5$$ whose values we wish to optimise, in a loop:"
   ]
  },
  {
   "cell_type": "code",
   "execution_count": 6,
   "metadata": {},
   "outputs": [],
   "source": [
    "infinity = solver.infinity()\n",
    "x = {}\n",
    "for j in range(data['num_vars']):\n",
    "    x[j] = solver.IntVar(0, infinity, f\"x[{str(j)}]\")"
   ]
  },
  {
   "cell_type": "markdown",
   "metadata": {},
   "source": [
    "### 3. Create Constrains\n",
    "Specify the linear constrains in $$A\\boldsymbol{x}\\leq b.$$ We do this in a loop:"
   ]
  },
  {
   "cell_type": "code",
   "execution_count": 7,
   "metadata": {},
   "outputs": [],
   "source": [
    "for i in range(data['num_constraints']):\n",
    "    this_constrains = data['constraint_coeffs'][i]\n",
    "    constraint_expr = [\n",
    "        this_constrains[j] * x[j] for j in range(data['num_vars'])\n",
    "    ]\n",
    "    solver.Add(sum(constraint_expr) <= data['bounds'][i])"
   ]
  },
  {
   "cell_type": "markdown",
   "metadata": {},
   "source": [
    "### 4. Objective Function\n",
    "Create the objective function $$7x_1 + 8x_2 + 2x_3 + 9x_4 + 6x_5,$$ using list comprehension:"
   ]
  },
  {
   "cell_type": "code",
   "execution_count": 8,
   "metadata": {},
   "outputs": [],
   "source": [
    "obj_expr = [data['obj_coeffs'][j] * x[j] for j in range(data['num_vars'])]"
   ]
  },
  {
   "cell_type": "markdown",
   "metadata": {},
   "source": [
    "### 5. Execute Job\n",
    "Solve the problem by setting the maximisation task and running the solver. A ```status``` informs us whether the optimisation routine reached an Optimal (```=0```) or Feasible (```=1```) solution."
   ]
  },
  {
   "cell_type": "code",
   "execution_count": null,
   "metadata": {},
   "outputs": [],
   "source": [
    "solver.Maximize(sum(obj_expr))\n",
    "status = solver.Solve()\n",
    "print(f\"The optimisation routine returned status {status}\")"
   ]
  },
  {
   "cell_type": "markdown",
   "metadata": {},
   "source": [
    "Here is a summary of the model you have optimised:"
   ]
  },
  {
   "cell_type": "markdown",
   "metadata": {},
   "source": [
    "Extract the optimal objective and variable values:"
   ]
  },
  {
   "cell_type": "code",
   "execution_count": null,
   "metadata": {},
   "outputs": [],
   "source": [
    "print('Objective value =', solver.Objective().Value())\n",
    "for j in range(data['num_vars']):\n",
    "    print(x[j].name(), ' = ', x[j].solution_value())\n",
    "print('Problem solved in %f milliseconds' % solver.wall_time())\n",
    "print('Problem solved in %d iterations' % solver.iterations())\n",
    "print('Problem solved in %d branch-and-bound nodes' % solver.nodes())"
   ]
  }
 ],
 "metadata": {
  "interpreter": {
   "hash": "0037296bf76744de428d0482d63eb379c1f8a28bde390bc1fbe8b5fd28c6ae75"
  },
  "kernelspec": {
   "display_name": "Python 3.9.7 64-bit ('optimization_workshop-D9fgSVyT': pipenv)",
   "language": "python",
   "name": "python3"
  },
  "language_info": {
   "codemirror_mode": {
    "name": "ipython",
    "version": 3
   },
   "file_extension": ".py",
   "mimetype": "text/x-python",
   "name": "python",
   "nbconvert_exporter": "python",
   "pygments_lexer": "ipython3",
   "version": "3.9.7"
  },
  "orig_nbformat": 4
 },
 "nbformat": 4,
 "nbformat_minor": 2
}

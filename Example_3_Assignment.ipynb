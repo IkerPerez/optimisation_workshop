{
 "cells": [
  {
   "cell_type": "markdown",
   "metadata": {},
   "source": [
    "Import the necessary libraries..."
   ]
  },
  {
   "cell_type": "code",
   "execution_count": null,
   "metadata": {},
   "outputs": [],
   "source": [
    "from ortools.linear_solver import pywraplp"
   ]
  },
  {
   "cell_type": "markdown",
   "metadata": {},
   "source": [
    "\n",
    "In the **third example**, we optimise a toy conference schedule. This is a **one-day conference** with **two rooms**.\n",
    "\n",
    "| Time | Room 1 | Room 2 |\n",
    "| --- | --- | --- |\n",
    "| 10:00 - 11:00 |        |        |\n",
    "| 10:00 - 11:00 |        |        |\n",
    "| 13:00 - 14:00 |        |        | \n",
    "| 14:00 - 15:00 |        |        | \n",
    "| 15:30 - 16:30 |        |        | \n",
    "\n",
    "A total of **10 talks** have been proposed by **4 speakers**:\n",
    "\n",
    "Brian | Terence | Neil | Berners \n",
    "--- | --- | --- | --- \n",
    "2 | 3 | 2 | 3\n",
    "\n",
    "We wish to **assign** the 10 talks to the 10 slots, such that:\n",
    "* No talk is repeated.\n",
    "* No room hosts two talks at the same time.\n",
    "* A speaker is not present in two rooms at the same time\n",
    "* A speaker does not offer two talks in a row.\n",
    "\n",
    "Here is the data:"
   ]
  },
  {
   "cell_type": "code",
   "execution_count": null,
   "metadata": {},
   "outputs": [],
   "source": [
    "data = {}\n",
    "data['speakers'] = {\n",
    "    'Brian': 2,\n",
    "    'Terence': 3,\n",
    "    'Neil': 2,\n",
    "    'Berners': 3\n",
    "}\n",
    "data['rooms'] = {\n",
    "    'Room1': 5,\n",
    "    'Room2': 5\n",
    "}"
   ]
  },
  {
   "cell_type": "markdown",
   "metadata": {},
   "source": [
    "\n",
    "We thus proceed through the steps to *create*, *specify* and *solve* a **mixed integer programming** problem using Google's OR-Tools."
   ]
  },
  {
   "cell_type": "markdown",
   "metadata": {},
   "source": [
    "### 1. Create the Solver\n",
    "First, create a solver for MIP programming, as a class instance:"
   ]
  },
  {
   "cell_type": "code",
   "execution_count": null,
   "metadata": {},
   "outputs": [],
   "source": [
    "solver = pywraplp.Solver.CreateSolver(solver_id='CBC')"
   ]
  },
  {
   "cell_type": "markdown",
   "metadata": {},
   "source": [
    "WARNING: 'SCIP' is the default MIP solver for OR-tools. But it has an **academic only licence**. We therefore use CBC, which is an alternative open-source MIP solver that can be leveraged by or-tools."
   ]
  },
  {
   "cell_type": "markdown",
   "metadata": {},
   "source": [
    "### 2. Create the Variables\n",
    "Next, create talk-slot assignment integer-valued variables $$x_{speaker, talk, room, slot} \\in \\{0,1\\},$$\n",
    "where the support definitions for the indeces are trivial."
   ]
  },
  {
   "cell_type": "code",
   "execution_count": null,
   "metadata": {},
   "outputs": [],
   "source": [
    "x = {}  # Speaker, Talk, Room, Slot -> 10 talks x 10 slots = 100 variables\n",
    "for speaker in data['speakers']:\n",
    "    for talk_num in range(data['speakers'][speaker]):\n",
    "        for room in data['rooms']:\n",
    "            for slot in range(data['rooms'][room]):\n",
    "                x[speaker, talk_num, room, slot] = solver.IntVar(0, 1, '')\n",
    "print(f\"You created {len(x)} varialbes\")"
   ]
  },
  {
   "cell_type": "markdown",
   "metadata": {},
   "source": [
    "### 3. Add Constraints\n",
    "Each talk can only be assigned to a single slot:"
   ]
  },
  {
   "cell_type": "code",
   "execution_count": null,
   "metadata": {},
   "outputs": [],
   "source": [
    "for speaker in data['speakers']:\n",
    "    for talk_num in range(data['speakers'][speaker]):\n",
    "        solver.Add(\n",
    "            sum(\n",
    "                [x[speaker, talk_num, i, j]\n",
    "                    for i in data['rooms']\n",
    "                    for j in range(data['rooms'][i])]) <= 1)"
   ]
  },
  {
   "cell_type": "markdown",
   "metadata": {},
   "source": [
    "Each slot can only host one talk:"
   ]
  },
  {
   "cell_type": "code",
   "execution_count": null,
   "metadata": {},
   "outputs": [],
   "source": [
    "for room in data['rooms']:\n",
    "    for slot in range(data['rooms'][room]):\n",
    "        solver.Add(\n",
    "            sum(\n",
    "                [x[i, j, room, slot]\n",
    "                    for i in data['speakers']\n",
    "                    for j in range(data['speakers'][i])]) <= 1)"
   ]
  },
  {
   "cell_type": "markdown",
   "metadata": {},
   "source": [
    "A speaker cannot be present in two rooms at the same time:"
   ]
  },
  {
   "cell_type": "code",
   "execution_count": null,
   "metadata": {},
   "outputs": [],
   "source": [
    "for speaker in data['speakers']:\n",
    "    for slot in range(data['rooms']['Room1']):\n",
    "        solver.Add(\n",
    "            sum(\n",
    "                [x[speaker, i, j, slot]\n",
    "                    for i in range(data['speakers'][speaker])\n",
    "                    for j in data['rooms'].keys()]) <= 1)"
   ]
  },
  {
   "cell_type": "markdown",
   "metadata": {},
   "source": [
    "A speaker needs a break between talks:"
   ]
  },
  {
   "cell_type": "code",
   "execution_count": null,
   "metadata": {},
   "outputs": [],
   "source": [
    "for speaker in data['speakers']:\n",
    "    for slot in range(data['rooms']['Room1']-1):\n",
    "        solver.Add(\n",
    "            sum([x[speaker, i, j, k]\n",
    "                    for i in range(data['speakers'][speaker])\n",
    "                    for j in data['rooms'].keys()\n",
    "                    for k in range(slot, slot+2)]) <= 1)"
   ]
  },
  {
   "cell_type": "markdown",
   "metadata": {},
   "source": [
    "### 4. Objective\n",
    "Create an objective function that aims to fill the schedule:"
   ]
  },
  {
   "cell_type": "code",
   "execution_count": null,
   "metadata": {},
   "outputs": [],
   "source": [
    "solver.Maximize(sum(list(x.values())))"
   ]
  },
  {
   "cell_type": "markdown",
   "metadata": {},
   "source": [
    "### 5. Execute Job\n",
    "Solve the problem by running the solver. A ```status``` informs us whether the optimisation routine reached an Optimal (```=0```) or Feasible (```=1```) solution."
   ]
  },
  {
   "cell_type": "code",
   "execution_count": null,
   "metadata": {},
   "outputs": [],
   "source": [
    "status = solver.Solve()  # 0 Means we reaached optimal solution\n",
    "print(f\"The optimisation routine returned status {status}\")"
   ]
  },
  {
   "cell_type": "markdown",
   "metadata": {},
   "source": [
    "Here is a summary of the schedule:"
   ]
  },
  {
   "cell_type": "code",
   "execution_count": null,
   "metadata": {},
   "outputs": [],
   "source": [
    "for slot in range(data['rooms']['Room1']):\n",
    "    print(f\"Slot {slot}:\")\n",
    "    for room in data['rooms']:\n",
    "        for speaker in data['speakers']:\n",
    "            for talk_num in range(data['speakers'][speaker]):\n",
    "                if x[speaker, talk_num, room, slot].solution_value() > 0.5:\n",
    "                    print(f\"{room}: {speaker} with talk {talk_num}\")\n"
   ]
  }
 ],
 "metadata": {
  "interpreter": {
   "hash": "0037296bf76744de428d0482d63eb379c1f8a28bde390bc1fbe8b5fd28c6ae75"
  },
  "kernelspec": {
   "display_name": "Python 3 (ipykernel)",
   "language": "python",
   "name": "python3"
  },
  "language_info": {
   "codemirror_mode": {
    "name": "ipython",
    "version": 3
   },
   "file_extension": ".py",
   "mimetype": "text/x-python",
   "name": "python",
   "nbconvert_exporter": "python",
   "pygments_lexer": "ipython3",
   "version": "3.9.7"
  }
 },
 "nbformat": 4,
 "nbformat_minor": 2
}

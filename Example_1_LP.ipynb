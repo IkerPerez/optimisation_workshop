{
 "cells": [
  {
   "cell_type": "markdown",
   "metadata": {},
   "source": [
    "Import the necessary libraries..."
   ]
  },
  {
   "cell_type": "code",
   "execution_count": 1,
   "metadata": {},
   "outputs": [],
   "source": [
    "from ortools.linear_solver import pywraplp"
   ]
  },
  {
   "cell_type": "markdown",
   "metadata": {},
   "source": [
    "In the **first example**, we address the following optimisation problem:\n",
    "$$\n",
    "\\begin{align*}\n",
    "&\\text{maximise} \\quad& 3 x + y \\\\\n",
    "&\\text{subject to} \\quad& 0 \\leq x + 2  y \\leq 2 \\\\\n",
    "&& 0\\leq x, y\\leq 1\n",
    "\\end{align*}\n",
    "$$\n",
    "\n",
    "<img src=\"images/example_1.jpg\" width=\"500\" />\n",
    "\n",
    "\n",
    "\n",
    "\n",
    "We thus proceed through the steps to *create*, *specify* and *solve* a **linear programming** problem using Google's OR-Tools."
   ]
  },
  {
   "cell_type": "markdown",
   "metadata": {},
   "source": [
    "### 1. Create a solver\n",
    "First, create a solver for LP programming, as a class instance:"
   ]
  },
  {
   "cell_type": "code",
   "execution_count": 2,
   "metadata": {},
   "outputs": [],
   "source": [
    "solver = pywraplp.Solver.CreateSolver(solver_id='GLOP')"
   ]
  },
  {
   "cell_type": "markdown",
   "metadata": {},
   "source": [
    "GLOP is the back-end for Google's own linear programming solver. You can leverage CPLEX_LP, GUROBI_LP or GLPK_LP, but OR-tools must be compiled from source."
   ]
  },
  {
   "cell_type": "markdown",
   "metadata": {},
   "source": [
    "### 2. Create the numerical variables\n",
    "Next, create the numerical variables $x$ and $y$ whose values we wish to optimise, with an instance method:"
   ]
  },
  {
   "cell_type": "code",
   "execution_count": 3,
   "metadata": {},
   "outputs": [],
   "source": [
    "x = solver.NumVar(lb=0, ub=1, name='x')\n",
    "y = solver.NumVar(lb=0, ub=2, name='y')"
   ]
  },
  {
   "cell_type": "markdown",
   "metadata": {},
   "source": [
    "Note that we are further specifying the lover and upper bounds for each variable, s.t. $$0\\leq x, y \\leq 1.$$ Commonly, you use loops, lists and all of the common tricks to avoid writing a line of code per each variable."
   ]
  },
  {
   "cell_type": "markdown",
   "metadata": {},
   "source": [
    "### 3. Specify the linear constrain\n",
    "Specify the linear constrain that must be satisfied by your variables: $$0 \\leq x + 2 y \\leq 2.$$ We use an instance method and first define a constraint imposed over an indetermined **linear** formulae:"
   ]
  },
  {
   "cell_type": "code",
   "execution_count": 4,
   "metadata": {},
   "outputs": [],
   "source": [
    "ct = solver.Constraint(0, 2, 'ct')"
   ]
  },
  {
   "cell_type": "markdown",
   "metadata": {},
   "source": [
    "Next, we assign coefficients $1$ and $2$ to the variables $x$ and $y$, respectively:"
   ]
  },
  {
   "cell_type": "code",
   "execution_count": 5,
   "metadata": {},
   "outputs": [],
   "source": [
    "ct.SetCoefficient(var=x, coeff=1)\n",
    "ct.SetCoefficient(var=y, coeff=2)"
   ]
  },
  {
   "cell_type": "markdown",
   "metadata": {},
   "source": [
    "### 4. Objective function\n",
    "Create the objective function $$3x + y,$$ using the instance method and specifing the coefficients for the variables:"
   ]
  },
  {
   "cell_type": "code",
   "execution_count": 6,
   "metadata": {},
   "outputs": [],
   "source": [
    "obj = solver.Objective()\n",
    "obj.SetCoefficient(x, 3)\n",
    "obj.SetCoefficient(y, 1)"
   ]
  },
  {
   "cell_type": "markdown",
   "metadata": {},
   "source": [
    "### 5. Run solver\n",
    "Solve the problem by setting the maximisation task and running the solver. A ```status``` informs us whether the optimisation routine reached an Optimal (```=0```) or Feasible (```=1```) solution."
   ]
  },
  {
   "cell_type": "code",
   "execution_count": 7,
   "metadata": {},
   "outputs": [
    {
     "name": "stdout",
     "output_type": "stream",
     "text": [
      "The optimisation routine returned status 0\n"
     ]
    }
   ],
   "source": [
    "obj.SetMaximization()\n",
    "status = solver.Solve()\n",
    "print(f\"The optimisation routine returned status {status}\")"
   ]
  },
  {
   "cell_type": "markdown",
   "metadata": {},
   "source": [
    "We can finally extract the optimal objective and variable values with some function calls:"
   ]
  },
  {
   "cell_type": "code",
   "execution_count": 9,
   "metadata": {},
   "outputs": [
    {
     "name": "stdout",
     "output_type": "stream",
     "text": [
      "The optimal value is: 3.5\n",
      "Satisfied when x=1.0 and y=0.5\n"
     ]
    }
   ],
   "source": [
    "print(f\"The optimal value is: {obj.Value()}\")\n",
    "print(f\"Satisfied when x={x.solution_value()} and y={y.solution_value()}\")"
   ]
  }
 ],
 "metadata": {
  "interpreter": {
   "hash": "0037296bf76744de428d0482d63eb379c1f8a28bde390bc1fbe8b5fd28c6ae75"
  },
  "kernelspec": {
   "display_name": "Python 3 (ipykernel)",
   "language": "python",
   "name": "python3"
  },
  "language_info": {
   "codemirror_mode": {
    "name": "ipython",
    "version": 3
   },
   "file_extension": ".py",
   "mimetype": "text/x-python",
   "name": "python",
   "nbconvert_exporter": "python",
   "pygments_lexer": "ipython3",
   "version": "3.9.6"
  }
 },
 "nbformat": 4,
 "nbformat_minor": 2
}
